{
 "cells": [
  {
   "cell_type": "code",
   "execution_count": 37,
   "metadata": {},
   "outputs": [],
   "source": [
    "import pandas as pd\n",
    "import numpy as np\n",
    "import xgboost as xgb\n",
    "import matplotlib.pyplot as plt\n",
    "from sklearn.ensemble import RandomForestClassifier\n",
    "import random"
   ]
  },
  {
   "cell_type": "code",
   "execution_count": 38,
   "metadata": {},
   "outputs": [],
   "source": [
    "the_mobility_data = pd.read_csv('./features/the_mobility.csv').fillna(0)\n",
    "# 数据预处理\n",
    "X = the_mobility_data.iloc[:, :22]\n",
    "\n",
    "y = the_mobility_data.iloc[:, -1]    "
   ]
  },
  {
   "cell_type": "code",
   "execution_count": 39,
   "metadata": {},
   "outputs": [],
   "source": [
    "importance = np.zeros((22,))\n",
    "degree = 0.7\n",
    "for i in range(100):\n",
    "       random_seed = random.randint(1,100)\n",
    "       \n",
    "       random_max_depth = random.randint(2,30)\n",
    "       random_learning_rate = random.randint(1,100)/100\n",
    "       random_n_estimators = random.randint(20,100)\n",
    "      \n",
    "      ####xgb模型\n",
    "       xgboost_model = xgb.XGBClassifier(n_estimators=2,max_depth=4,learning_rate=0.08, min_child_weight = 0.01, gamma=0,reg_alpha=0.37,\n",
    "                                                scale_pos_weight=1)\n",
    "       xgboost_model.fit(X, y)\n",
    "       xgb_importance = xgboost_model.feature_importances_\n",
    "       \n",
    "       ###随机森林模型\n",
    "       rf_model = RandomForestClassifier(n_estimators=9, max_depth=1,min_samples_split=2,min_samples_leaf=1,max_leaf_nodes=2,\n",
    "                                  min_impurity_decrease=0.1,random_state=random_seed) \n",
    "       rf_model.fit(X,y)\n",
    "       rf_importance = rf_model.feature_importances_\n",
    "\n",
    "\n",
    "       ####按照比例累加起来\n",
    "       importance += degree*xgb_importance + (1-degree)*rf_importance"
   ]
  },
  {
   "cell_type": "code",
   "execution_count": 40,
   "metadata": {},
   "outputs": [
    {
     "name": "stdout",
     "output_type": "stream",
     "text": [
      "<class 'numpy.ndarray'>\n",
      "(22,)\n"
     ]
    },
    {
     "data": {
      "text/plain": [
       "[<matplotlib.lines.Line2D at 0x7fb0b0446950>]"
      ]
     },
     "execution_count": 40,
     "metadata": {},
     "output_type": "execute_result"
    },
    {
     "data": {
      "image/png": "[encoded data removed]",
      "text/plain": [
       "<Figure size 640x480 with 1 Axes>"
      ]
     },
     "metadata": {},
     "output_type": "display_data"
    }
   ],
   "source": [
    "print(type(importance))\n",
    "print(importance.shape)\n",
    "plt.plot(importance)"
   ]
  },
  {
   "cell_type": "code",
   "execution_count": 41,
   "metadata": {},
   "outputs": [
    {
     "name": "stdout",
     "output_type": "stream",
     "text": [
      "重要性从大到小的顺序是 [20 21  6 12 17  2 19 11  1  8  5  3 18 15 13  0  7 16 10  9  4 14]\n",
      "它们的重要性值是 [27.61831082 20.25668716 11.11058399  7.01893121  6.10171979  6.02674874\n",
      "  5.39229728  4.53821429  3.65380952  2.75952381  1.85690476  1.25690476\n",
      "  0.89940476  0.51071429  0.36369048  0.28936137  0.15        0.12\n",
      "  0.04285714  0.03333333  0.          0.        ]\n"
     ]
    }
   ],
   "source": [
    "the_index = np.argsort(-importance)\n",
    "print('重要性从大到小的顺序是',the_index)\n",
    "print('它们的重要性值是',importance[the_index])\n"
   ]
  },
  {
   "cell_type": "code",
   "execution_count": 42,
   "metadata": {},
   "outputs": [
    {
     "name": "stdout",
     "output_type": "stream",
     "text": [
      "         0        1         2         3    4         5          6     7   \\\n",
      "0  0.289361  3.65381  6.026749  1.256905  0.0  1.856905  11.110584  0.15   \n",
      "\n",
      "         8         9   ...        12       13   14        15    16       17  \\\n",
      "0  2.759524  0.033333  ...  7.018931  0.36369  0.0  0.510714  0.12  6.10172   \n",
      "\n",
      "         18        19         20         21  \n",
      "0  0.899405  5.392297  27.618311  20.256687  \n",
      "\n",
      "[1 rows x 22 columns]\n"
     ]
    }
   ],
   "source": [
    "importance_df = pd.DataFrame(importance).T\n",
    "print(importance_df)\n",
    "importance_df.to_csv('fea_importance/the_movbility_importance.csv')"
   ]
  },
  {
   "cell_type": "code",
   "execution_count": null,
   "metadata": {},
   "outputs": [],
   "source": []
  },
  {
   "cell_type": "code",
   "execution_count": null,
   "metadata": {},
   "outputs": [],
   "source": []
  }
 ],
 "metadata": {
  "kernelspec": {
   "display_name": "test001",
   "language": "python",
   "name": "python3"
  },
  "language_info": {
   "codemirror_mode": {
    "name": "ipython",
    "version": 3
   },
   "file_extension": ".py",
   "mimetype": "text/x-python",
   "name": "python",
   "nbconvert_exporter": "python",
   "pygments_lexer": "ipython3",
   "version": "3.11.7"
  }
 },
 "nbformat": 4,
 "nbformat_minor": 2
}
