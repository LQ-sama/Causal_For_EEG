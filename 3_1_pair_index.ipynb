{
 "cells": [
  {
   "cell_type": "code",
   "execution_count": null,
   "metadata": {},
   "outputs": [],
   "source": []
  },
  {
   "cell_type": "code",
   "execution_count": 1,
   "metadata": {},
   "outputs": [],
   "source": [
    "left = {0:'Fp1',1:'F3',2:'C3',3:'P3',4:'O1',5:'F7',6:'T3',7:'T5'}\n",
    "right = {0:'Fp2',1:'F4',2:'C4',3:'P4',4:'O2',5:'F8',6:'T4',7:'T6'}\n"
   ]
  },
  {
   "cell_type": "code",
   "execution_count": 2,
   "metadata": {},
   "outputs": [
    {
     "name": "stdout",
     "output_type": "stream",
     "text": [
      "序号 0 代表的电极对是 Fp1 Fp2\n",
      "序号 1 代表的电极对是 Fp1 F4\n",
      "序号 2 代表的电极对是 Fp1 C4\n",
      "序号 3 代表的电极对是 Fp1 P4\n",
      "序号 4 代表的电极对是 Fp1 O2\n",
      "序号 5 代表的电极对是 Fp1 F8\n",
      "序号 6 代表的电极对是 Fp1 T4\n",
      "序号 7 代表的电极对是 Fp1 T6\n",
      "序号 8 代表的电极对是 F3 Fp2\n",
      "序号 9 代表的电极对是 F3 F4\n",
      "序号 10 代表的电极对是 F3 C4\n",
      "序号 11 代表的电极对是 F3 P4\n",
      "序号 12 代表的电极对是 F3 O2\n",
      "序号 13 代表的电极对是 F3 F8\n",
      "序号 14 代表的电极对是 F3 T4\n",
      "序号 15 代表的电极对是 F3 T6\n",
      "序号 16 代表的电极对是 C3 Fp2\n",
      "序号 17 代表的电极对是 C3 F4\n",
      "序号 18 代表的电极对是 C3 C4\n",
      "序号 19 代表的电极对是 C3 P4\n",
      "序号 20 代表的电极对是 C3 O2\n",
      "序号 21 代表的电极对是 C3 F8\n",
      "序号 22 代表的电极对是 C3 T4\n",
      "序号 23 代表的电极对是 C3 T6\n",
      "序号 24 代表的电极对是 P3 Fp2\n",
      "序号 25 代表的电极对是 P3 F4\n",
      "序号 26 代表的电极对是 P3 C4\n",
      "序号 27 代表的电极对是 P3 P4\n",
      "序号 28 代表的电极对是 P3 O2\n",
      "序号 29 代表的电极对是 P3 F8\n",
      "序号 30 代表的电极对是 P3 T4\n",
      "序号 31 代表的电极对是 P3 T6\n",
      "序号 32 代表的电极对是 O1 Fp2\n",
      "序号 33 代表的电极对是 O1 F4\n",
      "序号 34 代表的电极对是 O1 C4\n",
      "序号 35 代表的电极对是 O1 P4\n",
      "序号 36 代表的电极对是 O1 O2\n",
      "序号 37 代表的电极对是 O1 F8\n",
      "序号 38 代表的电极对是 O1 T4\n",
      "序号 39 代表的电极对是 O1 T6\n",
      "序号 40 代表的电极对是 F7 Fp2\n",
      "序号 41 代表的电极对是 F7 F4\n",
      "序号 42 代表的电极对是 F7 C4\n",
      "序号 43 代表的电极对是 F7 P4\n",
      "序号 44 代表的电极对是 F7 O2\n",
      "序号 45 代表的电极对是 F7 F8\n",
      "序号 46 代表的电极对是 F7 T4\n",
      "序号 47 代表的电极对是 F7 T6\n",
      "序号 48 代表的电极对是 T3 Fp2\n",
      "序号 49 代表的电极对是 T3 F4\n",
      "序号 50 代表的电极对是 T3 C4\n",
      "序号 51 代表的电极对是 T3 P4\n",
      "序号 52 代表的电极对是 T3 O2\n",
      "序号 53 代表的电极对是 T3 F8\n",
      "序号 54 代表的电极对是 T3 T4\n",
      "序号 55 代表的电极对是 T3 T6\n",
      "序号 56 代表的电极对是 T5 Fp2\n",
      "序号 57 代表的电极对是 T5 F4\n",
      "序号 58 代表的电极对是 T5 C4\n",
      "序号 59 代表的电极对是 T5 P4\n",
      "序号 60 代表的电极对是 T5 O2\n",
      "序号 61 代表的电极对是 T5 F8\n",
      "序号 62 代表的电极对是 T5 T4\n",
      "序号 63 代表的电极对是 T5 T6\n"
     ]
    }
   ],
   "source": [
    "c = 0\n",
    "for i in range(8):\n",
    "    for j in range(8):\n",
    "        print('序号',c,'代表的电极对是',left[i],right[j])\n",
    "        c += 1\n"
   ]
  }
 ],
 "metadata": {
  "kernelspec": {
   "display_name": "Python 3",
   "language": "python",
   "name": "python3"
  },
  "language_info": {
   "codemirror_mode": {
    "name": "ipython",
    "version": 3
   },
   "file_extension": ".py",
   "mimetype": "text/x-python",
   "name": "python",
   "nbconvert_exporter": "python",
   "pygments_lexer": "ipython3",
   "version": "3.11.7"
  }
 },
 "nbformat": 4,
 "nbformat_minor": 2
}
