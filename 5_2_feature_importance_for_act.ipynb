{
 "cells": [
  {
   "cell_type": "code",
   "execution_count": 47,
   "metadata": {},
   "outputs": [],
   "source": [
    "import pandas as pd\n",
    "import numpy as np\n",
    "import xgboost as xgb\n",
    "import matplotlib.pyplot as plt\n",
    "from sklearn.ensemble import RandomForestClassifier\n",
    "import random"
   ]
  },
  {
   "cell_type": "code",
   "execution_count": 48,
   "metadata": {},
   "outputs": [],
   "source": [
    "\n",
    "train = pd.read_csv('./features/the_activity.csv').fillna(0)\n",
    "X = train.iloc[:,:22]  # 特征矩阵\n",
    "y = train.iloc[:,-1]  # 目标变量"
   ]
  },
  {
   "cell_type": "code",
   "execution_count": 49,
   "metadata": {},
   "outputs": [],
   "source": [
    "importance = np.zeros((22,))\n",
    "degree = 0.5\n",
    "for i in range(100):\n",
    "       random_seed = random.randint(1,100)\n",
    "       \n",
    "       random_max_depth = random.randint(2,30)\n",
    "       random_learning_rate = random.randint(1,100)/100\n",
    "       random_n_estimators = random.randint(20,100)\n",
    "      \n",
    "      ####xgb模型\n",
    "       xgboost_model = xgb.XGBClassifier(n_estimators=11,max_depth=3,learning_rate=0.26, min_child_weight = 0.5, gamma=0.74,reg_alpha=0.57,\n",
    "                                                scale_pos_weight=1)\n",
    "       xgboost_model.fit(X, y)\n",
    "       xgb_importance = xgboost_model.feature_importances_\n",
    "       \n",
    "       ###随机森林模型\n",
    "       rf_model = RandomForestClassifier(n_estimators=38, max_depth=1,min_samples_split=2,min_samples_leaf=1,max_leaf_nodes=2,\n",
    "                                  min_impurity_decrease=0.1,random_state=random_seed) \n",
    "       rf_model.fit(X,y)\n",
    "       rf_importance = rf_model.feature_importances_\n",
    "\n",
    "       ####按照比例累加起来\n",
    "       importance += degree*xgb_importance + (1-degree)*rf_importance\n"
   ]
  },
  {
   "cell_type": "code",
   "execution_count": 50,
   "metadata": {},
   "outputs": [
    {
     "name": "stdout",
     "output_type": "stream",
     "text": [
      "<class 'numpy.ndarray'>\n",
      "(22,)\n"
     ]
    },
    {
     "data": {
      "text/plain": [
       "[<matplotlib.lines.Line2D at 0x7fd0746f7850>]"
      ]
     },
     "execution_count": 50,
     "metadata": {},
     "output_type": "execute_result"
    },
    {
     "data": {
      "image/png": "[encoded data removed]",
      "text/plain": [
       "<Figure size 640x480 with 1 Axes>"
      ]
     },
     "metadata": {},
     "output_type": "display_data"
    }
   ],
   "source": [
    "print(type(importance))\n",
    "print(importance.shape)\n",
    "plt.plot(importance)"
   ]
  },
  {
   "cell_type": "code",
   "execution_count": 51,
   "metadata": {},
   "outputs": [
    {
     "name": "stdout",
     "output_type": "stream",
     "text": [
      "重要性从大到小的顺序是 [20 21  4  1 10 13 17 14 11 16 19  7  8  0  6  9  2  3 12 18 15  5]\n",
      "它们的重要性值是 [33.89518345 19.98038613  9.39122459  4.71869558  4.46124673  4.23637682\n",
      "  3.65577824  3.38701271  3.33927833  2.61151449  2.15724837  1.56166538\n",
      "  1.52430935  1.31664034  1.02077348  0.8417877   0.65939899  0.64252973\n",
      "  0.31209845  0.28684782  0.          0.        ]\n"
     ]
    }
   ],
   "source": [
    "the_index = np.argsort(-importance)\n",
    "print('重要性从大到小的顺序是',the_index)\n",
    "print('它们的重要性值是',importance[the_index])\n"
   ]
  },
  {
   "cell_type": "code",
   "execution_count": 53,
   "metadata": {},
   "outputs": [
    {
     "name": "stdout",
     "output_type": "stream",
     "text": [
      "        0         1         2        3         4    5         6         7   \\\n",
      "0  1.31664  4.718696  0.659399  0.64253  9.391225  0.0  1.020773  1.561665   \n",
      "\n",
      "         8         9   ...        12        13        14   15        16  \\\n",
      "0  1.524309  0.841788  ...  0.312098  4.236377  3.387013  0.0  2.611514   \n",
      "\n",
      "         17        18        19         20         21  \n",
      "0  3.655778  0.286848  2.157248  33.895183  19.980386  \n",
      "\n",
      "[1 rows x 22 columns]\n"
     ]
    }
   ],
   "source": [
    "importance_df = pd.DataFrame(importance).T\n",
    "print(importance_df)\n",
    "importance_df.to_csv('fea_importance/the_activity_importance.csv')"
   ]
  },
  {
   "cell_type": "code",
   "execution_count": null,
   "metadata": {},
   "outputs": [],
   "source": []
  }
 ],
 "metadata": {
  "kernelspec": {
   "display_name": "test001",
   "language": "python",
   "name": "python3"
  },
  "language_info": {
   "codemirror_mode": {
    "name": "ipython",
    "version": 3
   },
   "file_extension": ".py",
   "mimetype": "text/x-python",
   "name": "python",
   "nbconvert_exporter": "python",
   "pygments_lexer": "ipython3",
   "version": "3.11.7"
  }
 },
 "nbformat": 4,
 "nbformat_minor": 2
}
