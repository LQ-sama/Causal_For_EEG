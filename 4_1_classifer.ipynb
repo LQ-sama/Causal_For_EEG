{
 "cells": [
  {
   "cell_type": "code",
   "execution_count": 14,
   "metadata": {},
   "outputs": [],
   "source": [
    "import pandas as pd\n",
    "from sklearn.model_selection import train_test_split\n",
    "from sklearn.svm import SVC\n",
    "from sklearn.metrics import accuracy_score\n",
    "from sklearn.model_selection import train_test_split\n",
    "from sklearn.ensemble import RandomForestClassifier\n",
    "import xgboost as xgb\n"
   ]
  },
  {
   "cell_type": "code",
   "execution_count": 15,
   "metadata": {},
   "outputs": [
    {
     "name": "stdout",
     "output_type": "stream",
     "text": [
      "随机森林的 模型准确率: 0.7676935886761033\n"
     ]
    }
   ],
   "source": [
    "T = 45\n",
    "step = 1\n",
    "\n",
    "data = pd.read_csv('./features/alpha_{}_seconds_with_step_{}.csv'.format(T,step)) \n",
    "        \n",
    "\n",
    "# 数据预处理\n",
    "X = data.iloc[:, :64]\n",
    "\n",
    "y = data.iloc[:, -1]    # 第65列是标签\n",
    "\n",
    "\n",
    "X_train, X_test, y_train, y_test = train_test_split(X, y, test_size=0.1, random_state=42,shuffle=True)\n",
    "\n",
    "##SVM分类器\n",
    "svm_model = SVC(C=1,degree=3,tol=0.01,coef0=0,cache_size=200)\n",
    "svm_model.fit(X_train, y_train)\n",
    "svm_y_pred = svm_model.predict(X_test)\n",
    "\n",
    "#随机森林\n",
    "rf_model = RandomForestClassifier(n_estimators=43, max_depth=1,min_samples_split=2,min_samples_leaf=1,max_leaf_nodes=2,\n",
    "                                  min_impurity_decrease=1e-7,random_state=42) \n",
    "rf_model.fit(X=X_train,y=y_train)\n",
    "rf_y_pred = rf_model.predict(X_test)\n",
    "\n",
    "#Xgboost\n",
    "xgboost_model = xgb.XGBClassifier(n_estimators=200,max_depth=26,learning_rate=0.09, min_child_weight = 5, gamma=0.92,reg_alpha=1,\n",
    "                scale_pos_weight=1)\n",
    "xgboost_model.fit(X_train,y_train)\n",
    "xgboost_y_pred = xgboost_model.predict(X_test)\n",
    "        \n",
    "\n",
    "print('此时的T为{},此时的step为{}'.format(T,step))\n",
    "\n",
    "svm_accuracy = accuracy_score(y_test, svm_y_pred)\n",
    "       \n",
    "print('SVM的',f'模型准确率: {svm_accuracy}')\n",
    "\n",
    "rf_accuracy = accuracy_score(y_test,rf_y_pred)\n",
    "       \n",
    "print('随机森林的',f'模型准确率: {rf_accuracy}')\n",
    "\n",
    "xgboost_accuracy = accuracy_score(y_test,xgboost_y_pred)\n",
    "     \n",
    "print('xgboost的',f'模型准确率: {xgboost_accuracy}')\n",
    "\n"
   ]
  },
  {
   "cell_type": "code",
   "execution_count": 16,
   "metadata": {},
   "outputs": [],
   "source": [
    "# svm_accuracy = accuracy_score(y_test, svm_y_pred)\n",
    "# print('SVM的',f'模型准确率: {svm_accuracy}')\n",
    "\n",
    "# rf_accuracy = accuracy_score(y_test,rf_y_pred)\n",
    "# print('随机森林的',f'模型准确率: {rf_accuracy}')\n",
    "\n",
    "# xgboost_accuracy = accuracy_score(y_test,xgboost_y_pred)\n",
    "# print('xgboost的',f'模型准确率: {xgboost_accuracy}')"
   ]
  },
  {
   "cell_type": "code",
   "execution_count": null,
   "metadata": {},
   "outputs": [],
   "source": []
  },
  {
   "cell_type": "code",
   "execution_count": null,
   "metadata": {},
   "outputs": [],
   "source": []
  },
  {
   "cell_type": "code",
   "execution_count": null,
   "metadata": {},
   "outputs": [],
   "source": []
  }
 ],
 "metadata": {
  "kernelspec": {
   "display_name": "mne_analysis",
   "language": "python",
   "name": "python3"
  },
  "language_info": {
   "codemirror_mode": {
    "name": "ipython",
    "version": 3
   },
   "file_extension": ".py",
   "mimetype": "text/x-python",
   "name": "python",
   "nbconvert_exporter": "python",
   "pygments_lexer": "ipython3",
   "version": "3.12.2"
  }
 },
 "nbformat": 4,
 "nbformat_minor": 2
}
