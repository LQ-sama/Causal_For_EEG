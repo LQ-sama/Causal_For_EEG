{
 "cells": [
  {
   "cell_type": "code",
   "execution_count": 4,
   "metadata": {},
   "outputs": [],
   "source": [
    "import numpy as np\n",
    "import pandas as pd"
   ]
  },
  {
   "cell_type": "code",
   "execution_count": 5,
   "metadata": {},
   "outputs": [],
   "source": [
    "\n",
    "alpha_data = pd.read_csv('./features/alpha_45_seconds_with_step_1.csv')\n",
    "beta_data = pd.read_csv('./features/beta_45_seconds_with_step_45.csv')\n",
    "theta_data = pd.read_csv('./features/theta_45_seconds_with_step_45.csv') \n",
    "y = alpha_data.iloc[:,-1]\n"
   ]
  },
  {
   "cell_type": "code",
   "execution_count": 6,
   "metadata": {},
   "outputs": [],
   "source": [
    "alpha1 = alpha_data.iloc[:,0]   ####36:O1-O2  27：P3-P4    55:T3-T6  24:P3-Fp2   63:T5 T6\n",
    "alpha2 = alpha_data.iloc[:,27]\n",
    "alpha3 = alpha_data.iloc[:,36] \n",
    "alpha4 = alpha_data.iloc[:,63]\n",
    "\n",
    "beta = beta_data.iloc[:,27]    ####27:P3-P4\n",
    "\n",
    "theta = theta_data.iloc[:,48]   ####48:T3-Fp2 \n",
    "\n",
    "all_important_features = pd.concat([alpha1,alpha2,alpha3,alpha4,y],axis=1)\n",
    "all_important_features.to_csv('prepared_for_causal.csv',index=False)\n"
   ]
  }
 ],
 "metadata": {
  "kernelspec": {
   "display_name": "Python 3",
   "language": "python",
   "name": "python3"
  },
  "language_info": {
   "codemirror_mode": {
    "name": "ipython",
    "version": 3
   },
   "file_extension": ".py",
   "mimetype": "text/x-python",
   "name": "python",
   "nbconvert_exporter": "python",
   "pygments_lexer": "ipython3",
   "version": "3.12.2"
  }
 },
 "nbformat": 4,
 "nbformat_minor": 2
}
